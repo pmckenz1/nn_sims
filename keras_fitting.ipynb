{
 "cells": [
  {
   "cell_type": "markdown",
   "metadata": {},
   "source": [
    "Making a keras model."
   ]
  },
  {
   "cell_type": "code",
   "execution_count": 146,
   "metadata": {},
   "outputs": [],
   "source": [
    "from keras.models import Sequential\n",
    "from keras.layers import Dense\n",
    "from keras.utils import np_utils\n",
    "from keras.layers import SimpleRNN, Reshape\n",
    "from keras.optimizers import Adam\n",
    "import numpy as np\n",
    "import pandas as pd\n",
    "import h5py\n",
    "from numba import jit\n",
    "from sklearn.model_selection import train_test_split"
   ]
  },
  {
   "cell_type": "markdown",
   "metadata": {},
   "source": [
    "### run this if you're wanting to just use d stats"
   ]
  },
  {
   "cell_type": "code",
   "execution_count": 104,
   "metadata": {},
   "outputs": [],
   "source": [
    "dat=h5py.File(\"databases/slider_quarts_bigger.hdf5\",mode=\"r\")\n",
    "@jit\n",
    "def dstat(mat):\n",
    "    '''\n",
    "    input a 2d square site count matrix, output a d statistic (float)\n",
    "    '''\n",
    "    abba = (mat[1,4]+mat[2,8]+mat[3,12]+mat[4,1]+mat[6,9]+mat[7,13]+\n",
    "            mat[8,2]+mat[9,6]+mat[11,14]+mat[12,3]+mat[13,7]+mat[14,11])\n",
    "    baba = (mat[1,1]+mat[2,2]+mat[3,3]+mat[4,4]+mat[6,6]+mat[7,7]+\n",
    "            mat[8,8]+mat[9,9]+mat[11,11]+mat[12,12]+mat[13,13]+mat[14,14])\n",
    "    return(float(abba-baba)/(abba+baba))\n",
    "def dstat3d(simcat_arr):\n",
    "    dstats = np.zeros((len(simcat_arr)))\n",
    "    counter = 0\n",
    "    for layer in simcat_arr:\n",
    "        try:\n",
    "            dstats[counter] = dstat(layer)\n",
    "        except:\n",
    "            # if division by zero error, then return an array of zeros that you can search for later\n",
    "            dstats = np.zeros((len(simcat_arr)))\n",
    "            break\n",
    "        counter += 1\n",
    "    return(dstats)\n",
    "all_dstats = np.zeros(dat['counts'].shape[0:2])\n",
    "for _ in range(len(dat['counts'])):\n",
    "    all_dstats[_]=dstat3d(dat['counts'][_])\n",
    "failed = list()\n",
    "for _ in range(len(all_dstats)):\n",
    "    if np.alltrue(all_dstats[_] == 0):\n",
    "        failed.append(_)\n",
    "np.array(failed)\n",
    "ind = np.ones((len(all_dstats)), bool)\n",
    "ind[failed] = False\n",
    "sources=dat['admix_sources'][:][ind]\n",
    "targets=dat['admix_targets'][:][ind]\n",
    "combo=np.hstack([sources,targets])\n",
    "\n",
    "class_ids=np.array([str(x) for x in combo])\n",
    "id_dict=dict(enumerate(np.unique(class_ids)))\n",
    "inv_dict = {v: k for k, v in id_dict.iteritems()}\n",
    "class_ids_int = np.zeros(class_ids.shape,dtype=np.int32)\n",
    "counter = 0\n",
    "for str_id in class_ids:\n",
    "    class_ids_int[counter] = inv_dict[str_id]\n",
    "    counter += 1\n",
    "\n",
    "X = all_dstats[ind]\n",
    "y = class_ids_int\n",
    "\n",
    "from sklearn.model_selection import train_test_split\n",
    "\n",
    "X_train, X_test, y_train, y_test = train_test_split(X, y, test_size=0.1, random_state=0)"
   ]
  },
  {
   "cell_type": "code",
   "execution_count": 107,
   "metadata": {},
   "outputs": [
    {
     "data": {
      "text/plain": [
       "array([[1, 2],\n",
       "       [1, 2],\n",
       "       [1, 2],\n",
       "       ...,\n",
       "       [5, 3],\n",
       "       [5, 3],\n",
       "       [5, 3]], dtype=uint8)"
      ]
     },
     "execution_count": 107,
     "metadata": {},
     "output_type": "execute_result"
    }
   ],
   "source": [
    "combo"
   ]
  },
  {
   "cell_type": "markdown",
   "metadata": {},
   "source": [
    "### For raw data, run this:"
   ]
  },
  {
   "cell_type": "code",
   "execution_count": 185,
   "metadata": {},
   "outputs": [],
   "source": [
    "dat=h5py.File(\"databases/bounded_05_4.hdf5\")"
   ]
  },
  {
   "cell_type": "code",
   "execution_count": 186,
   "metadata": {},
   "outputs": [],
   "source": [
    "sources=dat['admix_sources']\n",
    "targets=dat['admix_targets']\n",
    "combo=np.hstack([sources,targets])\n",
    "newcombo = np.sort(combo,axis=1)\n",
    "class_ids=np.array([str(x) for x in newcombo])\n",
    "id_dict=dict(enumerate(np.unique(class_ids)))\n",
    "inv_dict = {v: k for k, v in id_dict.iteritems()}\n",
    "class_ids_int = np.zeros(class_ids.shape,dtype=np.int32)\n",
    "counter = 0\n",
    "for str_id in class_ids:\n",
    "    class_ids_int[counter] = inv_dict[str_id]\n",
    "    counter += 1\n",
    "y = class_ids_int"
   ]
  },
  {
   "cell_type": "code",
   "execution_count": 187,
   "metadata": {},
   "outputs": [],
   "source": [
    "def flattendb(counts):\n",
    "    newshape=reduce(lambda x,y: x*y, counts[0].shape)\n",
    "    X = np.zeros((counts.shape[0],newshape))\n",
    "    for i in range(len(counts)):\n",
    "        X[i] = counts[i].ravel()\n",
    "    return(X)"
   ]
  },
  {
   "cell_type": "code",
   "execution_count": 188,
   "metadata": {},
   "outputs": [],
   "source": [
    "X = flattendb(dat['counts'])"
   ]
  },
  {
   "cell_type": "code",
   "execution_count": 189,
   "metadata": {},
   "outputs": [],
   "source": [
    "trainX, testX, trainY, testY = train_test_split(X, y,\n",
    "\ttest_size = .2, random_state = 42)"
   ]
  },
  {
   "cell_type": "code",
   "execution_count": 190,
   "metadata": {},
   "outputs": [],
   "source": [
    "encoding_trainY = np_utils.to_categorical(trainY)\n",
    "encoding_testY = np_utils.to_categorical(testY)"
   ]
  },
  {
   "cell_type": "code",
   "execution_count": 191,
   "metadata": {},
   "outputs": [],
   "source": [
    "# Creating a model\n",
    "model = Sequential()\n",
    "model.add(Dense(1024, input_dim=256, activation='relu'))\n",
    "model.add(Dense(512, activation='relu'))\n",
    "model.add(Dense(128, activation='relu'))\n",
    "model.add(Dense(9, activation='softmax'))"
   ]
  },
  {
   "cell_type": "code",
   "execution_count": 88,
   "metadata": {},
   "outputs": [],
   "source": [
    "model = Sequential()\n",
    "model.add(Dense(512, input_dim=256,activation='relu'))\n",
    "model.add(Dense(256,activation='relu'))\n",
    "model.add(Reshape((16, 16)))\n",
    "model.add(SimpleRNN(9)) \n",
    "\n",
    "model.add(Dense(9, activation='softmax'))\n",
    "adam = Adam(lr=0.001, beta_1=0.9, beta_2=0.999, epsilon=1e-08)\n",
    "model.compile(loss=\"mean_squared_error\", optimizer=\"rmsprop\")"
   ]
  },
  {
   "cell_type": "code",
   "execution_count": 193,
   "metadata": {},
   "outputs": [],
   "source": [
    "# Compiling model\n",
    "#adam = Adam(lr=0.5, beta_1=0.9, beta_2=0.99, epsilon=.01)\n",
    "model.compile(loss='categorical_crossentropy', optimizer=\"Adam\", metrics=['accuracy'])"
   ]
  },
  {
   "cell_type": "code",
   "execution_count": 194,
   "metadata": {},
   "outputs": [
    {
     "name": "stdout",
     "output_type": "stream",
     "text": [
      "Epoch 1/30\n",
      "14400/14400 [==============================] - 6s 440us/step - loss: 0.9268 - acc: 0.6585\n",
      "Epoch 2/30\n",
      "14400/14400 [==============================] - 5s 313us/step - loss: 0.7340 - acc: 0.7185\n",
      "Epoch 3/30\n",
      "14400/14400 [==============================] - 6s 397us/step - loss: 0.7240 - acc: 0.7204\n",
      "Epoch 4/30\n",
      "14400/14400 [==============================] - 5s 321us/step - loss: 0.6927 - acc: 0.7320\n",
      "Epoch 5/30\n",
      "14400/14400 [==============================] - 4s 286us/step - loss: 0.6808 - acc: 0.7305\n",
      "Epoch 6/30\n",
      "14400/14400 [==============================] - 5s 358us/step - loss: 0.6727 - acc: 0.7355\n",
      "Epoch 7/30\n",
      "14400/14400 [==============================] - 5s 367us/step - loss: 0.6729 - acc: 0.7369\n",
      "Epoch 8/30\n",
      "14400/14400 [==============================] - 6s 390us/step - loss: 0.6678 - acc: 0.7345\n",
      "Epoch 9/30\n",
      "14400/14400 [==============================] - 5s 342us/step - loss: 0.6620 - acc: 0.7402\n",
      "Epoch 10/30\n",
      "14400/14400 [==============================] - 5s 319us/step - loss: 0.6645 - acc: 0.7350\n",
      "Epoch 11/30\n",
      "14400/14400 [==============================] - 5s 376us/step - loss: 0.6621 - acc: 0.7397\n",
      "Epoch 12/30\n",
      "14400/14400 [==============================] - 7s 464us/step - loss: 0.6603 - acc: 0.7393\n",
      "Epoch 13/30\n",
      "14400/14400 [==============================] - 6s 395us/step - loss: 0.6579 - acc: 0.7381\n",
      "Epoch 14/30\n",
      "14400/14400 [==============================] - 5s 317us/step - loss: 0.6578 - acc: 0.7395\n",
      "Epoch 15/30\n",
      "14400/14400 [==============================] - 5s 313us/step - loss: 0.6517 - acc: 0.7415\n",
      "Epoch 16/30\n",
      "14400/14400 [==============================] - 7s 516us/step - loss: 0.6507 - acc: 0.7403\n",
      "Epoch 17/30\n",
      "14400/14400 [==============================] - 5s 347us/step - loss: 0.6513 - acc: 0.7413\n",
      "Epoch 18/30\n",
      "14400/14400 [==============================] - 5s 317us/step - loss: 0.6400 - acc: 0.7457\n",
      "Epoch 19/30\n",
      "14400/14400 [==============================] - 4s 264us/step - loss: 0.6364 - acc: 0.7449\n",
      "Epoch 20/30\n",
      "14400/14400 [==============================] - 5s 349us/step - loss: 0.6437 - acc: 0.7456\n",
      "Epoch 21/30\n",
      "14400/14400 [==============================] - 6s 406us/step - loss: 0.6405 - acc: 0.7451\n",
      "Epoch 22/30\n",
      "14400/14400 [==============================] - 6s 390us/step - loss: 0.6374 - acc: 0.7471\n",
      "Epoch 23/30\n",
      "14400/14400 [==============================] - 7s 459us/step - loss: 0.6280 - acc: 0.7481\n",
      "Epoch 24/30\n",
      "14400/14400 [==============================] - 6s 409us/step - loss: 0.6301 - acc: 0.7476\n",
      "Epoch 25/30\n",
      "14400/14400 [==============================] - 5s 331us/step - loss: 0.6361 - acc: 0.7487\n",
      "Epoch 26/30\n",
      "14400/14400 [==============================] - 6s 424us/step - loss: 0.6345 - acc: 0.7465\n",
      "Epoch 27/30\n",
      "14400/14400 [==============================] - 5s 350us/step - loss: 0.6320 - acc: 0.7476\n",
      "Epoch 28/30\n",
      "14400/14400 [==============================] - 4s 305us/step - loss: 0.6355 - acc: 0.7475\n",
      "Epoch 29/30\n",
      "14400/14400 [==============================] - 6s 382us/step - loss: 0.6272 - acc: 0.7483\n",
      "Epoch 30/30\n",
      "14400/14400 [==============================] - 5s 313us/step - loss: 0.6270 - acc: 0.7505\n"
     ]
    },
    {
     "data": {
      "text/plain": [
       "<keras.callbacks.History at 0x1a7adc8f10>"
      ]
     },
     "execution_count": 194,
     "metadata": {},
     "output_type": "execute_result"
    }
   ],
   "source": [
    "# Training a model\n",
    "model.fit(trainX, encoding_trainY, epochs=30, batch_size=100,verbose=True)"
   ]
  },
  {
   "cell_type": "code",
   "execution_count": 11,
   "metadata": {},
   "outputs": [
    {
     "name": "stdout",
     "output_type": "stream",
     "text": [
      "Epoch 1/50\n",
      "7360/7360 [==============================] - 5s 708us/step - loss: 0.7001 - acc: 0.7443\n",
      "Epoch 2/50\n",
      "7360/7360 [==============================] - 5s 698us/step - loss: 0.4407 - acc: 0.8129\n",
      "Epoch 3/50\n",
      "7360/7360 [==============================] - 5s 706us/step - loss: 0.3967 - acc: 0.8265\n",
      "Epoch 4/50\n",
      "7360/7360 [==============================] - 5s 710us/step - loss: 0.3489 - acc: 0.8385\n",
      "Epoch 5/50\n",
      "7360/7360 [==============================] - 5s 718us/step - loss: 0.3452 - acc: 0.8368\n",
      "Epoch 6/50\n",
      "7360/7360 [==============================] - 5s 707us/step - loss: 0.3789 - acc: 0.8281\n",
      "Epoch 7/50\n",
      "7360/7360 [==============================] - 5s 699us/step - loss: 0.3322 - acc: 0.8442\n",
      "Epoch 8/50\n",
      "7360/7360 [==============================] - 5s 716us/step - loss: 0.3318 - acc: 0.8367\n",
      "Epoch 9/50\n",
      "7360/7360 [==============================] - 5s 718us/step - loss: 0.3097 - acc: 0.8461\n",
      "Epoch 10/50\n",
      "7360/7360 [==============================] - 5s 707us/step - loss: 0.3350 - acc: 0.8446\n",
      "Epoch 11/50\n",
      "7360/7360 [==============================] - 5s 660us/step - loss: 0.3890 - acc: 0.8423\n",
      "Epoch 12/50\n",
      "7360/7360 [==============================] - 5s 659us/step - loss: 0.2980 - acc: 0.8484\n",
      "Epoch 13/50\n",
      "7360/7360 [==============================] - 5s 663us/step - loss: 0.2928 - acc: 0.8493\n",
      "Epoch 14/50\n",
      "7360/7360 [==============================] - 5s 653us/step - loss: 0.3166 - acc: 0.8452\n",
      "Epoch 15/50\n",
      "7360/7360 [==============================] - 5s 662us/step - loss: 0.2961 - acc: 0.8493\n",
      "Epoch 16/50\n",
      "7360/7360 [==============================] - 5s 671us/step - loss: 0.2743 - acc: 0.8557\n",
      "Epoch 17/50\n",
      "7360/7360 [==============================] - 5s 685us/step - loss: 0.3911 - acc: 0.8433\n",
      "Epoch 18/50\n",
      "7360/7360 [==============================] - 5s 681us/step - loss: 0.6153 - acc: 0.8337\n",
      "Epoch 19/50\n",
      "7360/7360 [==============================] - 5s 693us/step - loss: 0.3732 - acc: 0.8431\n",
      "Epoch 20/50\n",
      "7360/7360 [==============================] - 5s 696us/step - loss: 0.2830 - acc: 0.8549\n",
      "Epoch 21/50\n",
      "7360/7360 [==============================] - 5s 708us/step - loss: 0.2804 - acc: 0.8571\n",
      "Epoch 22/50\n",
      "7360/7360 [==============================] - 5s 692us/step - loss: 0.2738 - acc: 0.8596\n",
      "Epoch 23/50\n",
      "7360/7360 [==============================] - 5s 692us/step - loss: 0.4115 - acc: 0.8332\n",
      "Epoch 24/50\n",
      "7360/7360 [==============================] - 5s 701us/step - loss: 0.2576 - acc: 0.8662\n",
      "Epoch 25/50\n",
      "7360/7360 [==============================] - 5s 720us/step - loss: 0.2869 - acc: 0.8550\n",
      "Epoch 26/50\n",
      "7360/7360 [==============================] - 5s 694us/step - loss: 0.2641 - acc: 0.8561\n",
      "Epoch 27/50\n",
      "7360/7360 [==============================] - 5s 714us/step - loss: 0.2669 - acc: 0.8569\n",
      "Epoch 28/50\n",
      "7360/7360 [==============================] - 5s 633us/step - loss: 0.2631 - acc: 0.8606\n",
      "Epoch 29/50\n",
      "7360/7360 [==============================] - 5s 705us/step - loss: 0.2456 - acc: 0.8678\n",
      "Epoch 30/50\n",
      "7360/7360 [==============================] - 5s 700us/step - loss: 0.2526 - acc: 0.8649\n",
      "Epoch 31/50\n",
      "7360/7360 [==============================] - 6s 854us/step - loss: 0.2491 - acc: 0.8613\n",
      "Epoch 32/50\n",
      "7360/7360 [==============================] - 5s 718us/step - loss: 0.2807 - acc: 0.8510\n",
      "Epoch 33/50\n",
      "7360/7360 [==============================] - 5s 720us/step - loss: 0.2482 - acc: 0.8649\n",
      "Epoch 34/50\n",
      "7360/7360 [==============================] - 5s 702us/step - loss: 0.2692 - acc: 0.8568\n",
      "Epoch 35/50\n",
      "7360/7360 [==============================] - 5s 651us/step - loss: 0.2495 - acc: 0.8664\n",
      "Epoch 36/50\n",
      "7360/7360 [==============================] - 5s 713us/step - loss: 0.2540 - acc: 0.8622\n",
      "Epoch 37/50\n",
      "7360/7360 [==============================] - 5s 707us/step - loss: 0.2628 - acc: 0.8610\n",
      "Epoch 38/50\n",
      "7360/7360 [==============================] - 5s 741us/step - loss: 0.2623 - acc: 0.8635\n",
      "Epoch 39/50\n",
      "7360/7360 [==============================] - 5s 737us/step - loss: 0.5718 - acc: 0.8424\n",
      "Epoch 40/50\n",
      "7360/7360 [==============================] - 6s 767us/step - loss: 0.9696 - acc: 0.8155\n",
      "Epoch 41/50\n",
      "7360/7360 [==============================] - 5s 705us/step - loss: 0.9566 - acc: 0.8156\n",
      "Epoch 42/50\n",
      "7360/7360 [==============================] - 5s 656us/step - loss: 0.7648 - acc: 0.8230\n",
      "Epoch 43/50\n",
      "7360/7360 [==============================] - 5s 645us/step - loss: 0.6231 - acc: 0.8353\n",
      "Epoch 44/50\n",
      "7360/7360 [==============================] - 6s 752us/step - loss: 0.3301 - acc: 0.8497\n",
      "Epoch 45/50\n",
      "7360/7360 [==============================] - 5s 710us/step - loss: 0.2304 - acc: 0.8655\n",
      "Epoch 46/50\n",
      "7360/7360 [==============================] - 5s 694us/step - loss: 0.2455 - acc: 0.8674\n",
      "Epoch 47/50\n",
      "7360/7360 [==============================] - 5s 717us/step - loss: 0.2530 - acc: 0.8602\n",
      "Epoch 48/50\n",
      "7360/7360 [==============================] - 5s 721us/step - loss: 0.2375 - acc: 0.8624\n",
      "Epoch 49/50\n",
      "7360/7360 [==============================] - 5s 740us/step - loss: 0.2270 - acc: 0.8671\n",
      "Epoch 50/50\n",
      "7360/7360 [==============================] - 5s 739us/step - loss: 0.2569 - acc: 0.8649\n"
     ]
    },
    {
     "data": {
      "text/plain": [
       "<keras.callbacks.History at 0x1a4563f4d0>"
      ]
     },
     "execution_count": 11,
     "metadata": {},
     "output_type": "execute_result"
    }
   ],
   "source": [
    "model.fit(trainX, encoding_trainY, epochs=50, batch_size=20,verbose=True)"
   ]
  },
  {
   "cell_type": "code",
   "execution_count": 12,
   "metadata": {},
   "outputs": [
    {
     "name": "stdout",
     "output_type": "stream",
     "text": [
      "2000/2000 [==============================] - 0s 201us/step\n",
      "\n",
      "Accuracy: 41.55%\n"
     ]
    }
   ],
   "source": [
    "# evaluate the model\n",
    "scores = model.evaluate(testX, encoding_testY)\n",
    "print(\"\\nAccuracy: %.2f%%\" % (scores[1]*100))"
   ]
  },
  {
   "cell_type": "code",
   "execution_count": 16,
   "metadata": {},
   "outputs": [
    {
     "name": "stdout",
     "output_type": "stream",
     "text": [
      "2000/2000 [==============================] - 4s 2ms/step\n",
      "\n",
      "Accuracy: 42.45%\n"
     ]
    }
   ],
   "source": [
    "# evaluate the model\n",
    "scores = model.evaluate(testX, encoding_testY)\n",
    "print(\"\\nAccuracy: %.2f%%\" % (scores[1]*100))"
   ]
  },
  {
   "cell_type": "code",
   "execution_count": 20,
   "metadata": {},
   "outputs": [
    {
     "name": "stdout",
     "output_type": "stream",
     "text": [
      "2000/2000 [==============================] - 3s 1ms/step\n",
      "\n",
      "Accuracy: 44.50%\n"
     ]
    }
   ],
   "source": [
    "# evaluate the model\n",
    "scores = model.evaluate(testX, encoding_testY)\n",
    "print(\"\\nAccuracy: %.2f%%\" % (scores[1]*100))"
   ]
  },
  {
   "cell_type": "code",
   "execution_count": 24,
   "metadata": {},
   "outputs": [
    {
     "name": "stdout",
     "output_type": "stream",
     "text": [
      "2000/2000 [==============================] - 1s 727us/step\n",
      "\n",
      "Accuracy: 41.50%\n"
     ]
    }
   ],
   "source": [
    "# evaluate the model\n",
    "scores = model.evaluate(testX, encoding_testY)\n",
    "print(\"\\nAccuracy: %.2f%%\" % (scores[1]*100))"
   ]
  },
  {
   "cell_type": "code",
   "execution_count": 28,
   "metadata": {},
   "outputs": [
    {
     "name": "stdout",
     "output_type": "stream",
     "text": [
      "2000/2000 [==============================] - 2s 897us/step\n",
      "\n",
      "Accuracy: 41.40%\n"
     ]
    }
   ],
   "source": [
    "# evaluate the model\n",
    "scores = model.evaluate(testX, encoding_testY)\n",
    "print(\"\\nAccuracy: %.2f%%\" % (scores[1]*100))"
   ]
  },
  {
   "cell_type": "code",
   "execution_count": 43,
   "metadata": {},
   "outputs": [
    {
     "name": "stdout",
     "output_type": "stream",
     "text": [
      "1840/1840 [==============================] - 2s 1ms/step\n",
      "\n",
      "Accuracy: 86.03%\n"
     ]
    }
   ],
   "source": [
    "# evaluate the model\n",
    "scores = model.evaluate(testX, encoding_testY)\n",
    "print(\"\\nAccuracy: %.2f%%\" % (scores[1]*100))"
   ]
  },
  {
   "cell_type": "code",
   "execution_count": 195,
   "metadata": {},
   "outputs": [
    {
     "name": "stdout",
     "output_type": "stream",
     "text": [
      "3600/3600 [==============================] - 3s 705us/step\n",
      "\n",
      "Accuracy: 73.83%\n"
     ]
    }
   ],
   "source": [
    "# evaluate the model\n",
    "scores = model.evaluate(testX, encoding_testY)\n",
    "print(\"\\nAccuracy: %.2f%%\" % (scores[1]*100))"
   ]
  },
  {
   "cell_type": "code",
   "execution_count": 157,
   "metadata": {},
   "outputs": [
    {
     "name": "stdout",
     "output_type": "stream",
     "text": [
      "3600/3600 [==============================] - 1s 281us/step\n",
      "\n",
      "Accuracy: 73.94%\n"
     ]
    }
   ],
   "source": [
    "# evaluate the model\n",
    "scores = model.evaluate(testX, encoding_testY)\n",
    "print(\"\\nAccuracy: %.2f%%\" % (scores[1]*100))"
   ]
  },
  {
   "cell_type": "code",
   "execution_count": 158,
   "metadata": {},
   "outputs": [],
   "source": [
    "from sklearn.metrics import confusion_matrix\n",
    "from toyplot import matrix"
   ]
  },
  {
   "cell_type": "code",
   "execution_count": 159,
   "metadata": {},
   "outputs": [
    {
     "data": {
      "text/plain": [
       "array([[233,  25,   0,  13,   0,   0,  75,   4,  20],\n",
       "       [  7, 357,   0,  37,   0,   0,  27,   0,   0],\n",
       "       [  0,   1, 319,   2,  17,   2,   1,  45,   3],\n",
       "       [  8,  63,   0, 291,   0,   0,  25,   0,   7],\n",
       "       [  2,   1,  31,   0, 310,   4,   2,  32,   2],\n",
       "       [  6,   0,   7,   0,   2, 354,   2,  14,   6],\n",
       "       [ 89,  68,   0,  40,   0,   0, 164,   1,  23],\n",
       "       [  1,   0,  24,   0,  18,  11,   3, 337,  24],\n",
       "       [ 74,   4,   0,   4,   1,   6,  34,  20, 297]])"
      ]
     },
     "execution_count": 159,
     "metadata": {},
     "output_type": "execute_result"
    }
   ],
   "source": [
    "confusion_matrix(np.argmax(encoding_testY,axis=1),np.argmax(model.predict(testX),axis=1))"
   ]
  },
  {
   "cell_type": "code",
   "execution_count": 145,
   "metadata": {},
   "outputs": [
    {
     "data": {
      "text/plain": [
       "{'[0 1]': 0,\n",
       " '[0 2]': 1,\n",
       " '[0 3]': 2,\n",
       " '[1 2]': 3,\n",
       " '[1 3]': 4,\n",
       " '[2 3]': 5,\n",
       " '[2 4]': 6,\n",
       " '[3 4]': 7,\n",
       " '[3 5]': 8}"
      ]
     },
     "execution_count": 145,
     "metadata": {},
     "output_type": "execute_result"
    }
   ],
   "source": []
  },
  {
   "cell_type": "code",
   "execution_count": null,
   "metadata": {},
   "outputs": [],
   "source": []
  }
 ],
 "metadata": {
  "kernelspec": {
   "display_name": "Python 2",
   "language": "python",
   "name": "python2"
  },
  "language_info": {
   "codemirror_mode": {
    "name": "ipython",
    "version": 2
   },
   "file_extension": ".py",
   "mimetype": "text/x-python",
   "name": "python",
   "nbconvert_exporter": "python",
   "pygments_lexer": "ipython2",
   "version": "2.7.11"
  }
 },
 "nbformat": 4,
 "nbformat_minor": 2
}
