{
 "cells": [
  {
   "cell_type": "markdown",
   "metadata": {},
   "source": [
    "imports"
   ]
  },
  {
   "cell_type": "code",
   "execution_count": 1,
   "metadata": {},
   "outputs": [
    {
     "name": "stderr",
     "output_type": "stream",
     "text": [
      "/Users/pmckenz1/miniconda2/lib/python2.7/site-packages/h5py/__init__.py:36: FutureWarning: Conversion of the second argument of issubdtype from `float` to `np.floating` is deprecated. In future, it will be treated as `np.float64 == np.dtype(float).type`.\n",
      "  from ._conv import register_converters as _register_converters\n"
     ]
    }
   ],
   "source": [
    "import h5py\n",
    "import simcat\n",
    "import numpy as np\n",
    "import tensorflow as tf\n",
    "from numba import jit\n",
    "import toytree\n",
    "from copy import deepcopy\n",
    "import ipyparallel as ipp"
   ]
  },
  {
   "cell_type": "code",
   "execution_count": 10,
   "metadata": {},
   "outputs": [],
   "source": [
    "from sklearn.model_selection import train_test_split\n",
    "from sklearn.metrics import classification_report\n",
    "from sklearn.linear_model import LogisticRegression\n",
    "from sklearn.neural_network import BernoulliRBM\n",
    "from sklearn.grid_search import GridSearchCV\n",
    "from sklearn.pipeline import Pipeline\n",
    "import argparse\n",
    "import time"
   ]
  },
  {
   "cell_type": "code",
   "execution_count": 3,
   "metadata": {},
   "outputs": [],
   "source": [
    "dat=h5py.File(\"databases/starting_sims.hdf5\")"
   ]
  },
  {
   "cell_type": "markdown",
   "metadata": {},
   "source": [
    "### Make labels."
   ]
  },
  {
   "cell_type": "code",
   "execution_count": 4,
   "metadata": {},
   "outputs": [],
   "source": [
    "sources=dat['admix_sources']\n",
    "targets=dat['admix_targets']"
   ]
  },
  {
   "cell_type": "code",
   "execution_count": 5,
   "metadata": {},
   "outputs": [],
   "source": [
    "combo=np.hstack([sources,targets])\n",
    "class_ids=np.array([str(x) for x in combo])\n",
    "id_dict=dict(enumerate(np.unique(class_ids)))\n",
    "inv_dict = {v: k for k, v in id_dict.iteritems()}\n",
    "class_ids_int = np.zeros(class_ids.shape,dtype=np.int32)\n",
    "counter = 0\n",
    "for str_id in class_ids:\n",
    "    class_ids_int[counter] = inv_dict[str_id]\n",
    "    counter += 1\n",
    "y = class_ids_int"
   ]
  },
  {
   "cell_type": "markdown",
   "metadata": {},
   "source": [
    "### Get raw features (flattened)"
   ]
  },
  {
   "cell_type": "code",
   "execution_count": 18,
   "metadata": {},
   "outputs": [],
   "source": [
    "def flattendb(counts):\n",
    "    newshape=reduce(lambda x,y: x*y, counts[0].shape)\n",
    "    X = np.zeros((counts.shape[0],newshape))\n",
    "    for i in range(len(counts)):\n",
    "        X[i] = counts[i].ravel()\n",
    "    return(X)"
   ]
  },
  {
   "cell_type": "code",
   "execution_count": 23,
   "metadata": {},
   "outputs": [],
   "source": [
    "X = flattendb(dat['counts'][0:10000])"
   ]
  },
  {
   "cell_type": "markdown",
   "metadata": {},
   "source": [
    "### Scale the data."
   ]
  },
  {
   "cell_type": "code",
   "execution_count": 8,
   "metadata": {},
   "outputs": [],
   "source": [
    "def scale(X, eps = 0.001):\n",
    "\t# scale the data points s.t the columns of the feature space\n",
    "\t# (i.e the predictors) are within the range [0, 1]\n",
    "\treturn (X - np.min(X, axis = 0)) / (np.max(X, axis = 0) + eps)"
   ]
  },
  {
   "cell_type": "code",
   "execution_count": 24,
   "metadata": {},
   "outputs": [],
   "source": [
    "trainX, testX, trainY, testY = train_test_split(X, y[0:10000],\n",
    "\ttest_size = .2, random_state = 42)"
   ]
  },
  {
   "cell_type": "code",
   "execution_count": null,
   "metadata": {},
   "outputs": [
    {
     "name": "stdout",
     "output_type": "stream",
     "text": [
      "SEARCHING LOGISTIC REGRESSION\n",
      "Fitting 3 folds for each of 2 candidates, totalling 6 fits\n"
     ]
    },
    {
     "name": "stderr",
     "output_type": "stream",
     "text": [
      "Process PoolWorker-20:\n",
      "Traceback (most recent call last):\n",
      "Process PoolWorker-19:\n",
      "Process PoolWorker-21:\n",
      "Process PoolWorker-22:\n",
      "Traceback (most recent call last):\n",
      "Traceback (most recent call last):\n",
      "Traceback (most recent call last):\n",
      "  File \"/Users/pmckenz1/miniconda2/lib/python2.7/multiprocessing/process.py\", line 258, in _bootstrap\n",
      "  File \"/Users/pmckenz1/miniconda2/lib/python2.7/multiprocessing/process.py\", line 258, in _bootstrap\n",
      "  File \"/Users/pmckenz1/miniconda2/lib/python2.7/multiprocessing/process.py\", line 258, in _bootstrap\n",
      "  File \"/Users/pmckenz1/miniconda2/lib/python2.7/multiprocessing/process.py\", line 258, in _bootstrap\n",
      "    self.run()\n",
      "    self.run()\n",
      "  File \"/Users/pmckenz1/miniconda2/lib/python2.7/multiprocessing/process.py\", line 114, in run\n",
      "    self.run()\n",
      "  File \"/Users/pmckenz1/miniconda2/lib/python2.7/multiprocessing/process.py\", line 114, in run\n",
      "    self._target(*self._args, **self._kwargs)\n",
      "    self.run()\n",
      "  File \"/Users/pmckenz1/miniconda2/lib/python2.7/multiprocessing/process.py\", line 114, in run\n",
      "  File \"/Users/pmckenz1/miniconda2/lib/python2.7/multiprocessing/pool.py\", line 102, in worker\n",
      "  File \"/Users/pmckenz1/miniconda2/lib/python2.7/multiprocessing/process.py\", line 114, in run\n",
      "    task = get()\n",
      "    self._target(*self._args, **self._kwargs)\n",
      "    self._target(*self._args, **self._kwargs)\n",
      "  File \"/Users/pmckenz1/miniconda2/lib/python2.7/multiprocessing/pool.py\", line 102, in worker\n",
      "    self._target(*self._args, **self._kwargs)\n",
      "    task = get()\n",
      "  File \"/Users/pmckenz1/miniconda2/lib/python2.7/site-packages/sklearn/externals/joblib/pool.py\", line 360, in get\n",
      "  File \"/Users/pmckenz1/miniconda2/lib/python2.7/multiprocessing/pool.py\", line 102, in worker\n",
      "  File \"/Users/pmckenz1/miniconda2/lib/python2.7/multiprocessing/pool.py\", line 102, in worker\n",
      "    racquire()\n",
      "  File \"/Users/pmckenz1/miniconda2/lib/python2.7/site-packages/sklearn/externals/joblib/pool.py\", line 360, in get\n",
      "    task = get()\n",
      "KeyboardInterrupt\n",
      "    task = get()\n",
      "  File \"/Users/pmckenz1/miniconda2/lib/python2.7/site-packages/sklearn/externals/joblib/pool.py\", line 362, in get\n",
      "    racquire()\n",
      "  File \"/Users/pmckenz1/miniconda2/lib/python2.7/site-packages/sklearn/externals/joblib/pool.py\", line 360, in get\n",
      "KeyboardInterrupt\n",
      "    return recv()\n",
      "    racquire()\n",
      "KeyboardInterrupt\n",
      "KeyboardInterrupt\n"
     ]
    }
   ],
   "source": [
    "# perform a grid search on the 'C' parameter of Logistic\n",
    "# Regression\n",
    "print \"SEARCHING LOGISTIC REGRESSION\"\n",
    "params = {\"C\": [1.0, 10.0]}\n",
    "start = time.time()\n",
    "gs = GridSearchCV(LogisticRegression(), params, n_jobs = -1, verbose = 1)\n",
    "gs.fit(trainX, trainY)\n",
    "\n",
    "# print diagnostic information to the user and grab the\n",
    "# best model\n",
    "print \"done in %0.3fs\" % (time.time() - start)\n",
    "print \"best score: %0.3f\" % (gs.best_score_)\n",
    "print \"LOGISTIC REGRESSION PARAMETERS\"\n",
    "bestParams = gs.best_estimator_.get_params()\n",
    "\n",
    "# loop over the parameters and print each of them out\n",
    "# so they can be manually set\n",
    "for p in sorted(params.keys()):\n",
    "    print \"\\t %s: %f\" % (p, bestParams[p])"
   ]
  },
  {
   "cell_type": "code",
   "execution_count": null,
   "metadata": {},
   "outputs": [],
   "source": []
  },
  {
   "cell_type": "code",
   "execution_count": null,
   "metadata": {},
   "outputs": [],
   "source": []
  }
 ],
 "metadata": {
  "kernelspec": {
   "display_name": "Python 2",
   "language": "python",
   "name": "python2"
  },
  "language_info": {
   "codemirror_mode": {
    "name": "ipython",
    "version": 2
   },
   "file_extension": ".py",
   "mimetype": "text/x-python",
   "name": "python",
   "nbconvert_exporter": "python",
   "pygments_lexer": "ipython2",
   "version": "2.7.11"
  }
 },
 "nbformat": 4,
 "nbformat_minor": 2
}
