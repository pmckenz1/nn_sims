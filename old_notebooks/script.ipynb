{
 "cells": [
  {
   "cell_type": "code",
   "execution_count": 16,
   "metadata": {},
   "outputs": [],
   "source": [
    "import h5py\n",
    "import simcat\n",
    "import numpy as np\n",
    "import tensorflow as tf\n",
    "from numba import jit\n",
    "import toytree\n",
    "from copy import deepcopy\n",
    "import ipyparallel as ipp"
   ]
  },
  {
   "cell_type": "code",
   "execution_count": 17,
   "metadata": {},
   "outputs": [
    {
     "data": {
      "text/html": [
       "<div class=\"toyplot\" id=\"t28173185d0674d6d9ae4a87a223684f0\" style=\"text-align:center\"><svg class=\"toyplot-canvas-Canvas\" height=\"225.0px\" id=\"t82d7fec94ea54f4183d16df92c1ec584\" preserveAspectRatio=\"xMidYMid meet\" style=\"background-color:transparent;fill:rgb(16.1%,15.3%,14.1%);fill-opacity:1.0;font-family:Helvetica;font-size:12px;opacity:1.0;stroke:rgb(16.1%,15.3%,14.1%);stroke-opacity:1.0;stroke-width:1.0\" viewBox=\"0 0 275.0 225.0\" width=\"275.0px\" xmlns=\"http://www.w3.org/2000/svg\" xmlns:toyplot=\"http://www.sandia.gov/toyplot\" xmlns:xlink=\"http://www.w3.org/1999/xlink\"><g class=\"toyplot-coordinates-Cartesian\" id=\"t69211c5d686349e6a6236572e3641c5d\"><clipPath id=\"t927bd22be1e441a4a7488018968b1a0a\"><rect height=\"165.0\" width=\"215.0\" x=\"30.0\" y=\"30.0\"></rect></clipPath><g clip-path=\"url(#t927bd22be1e441a4a7488018968b1a0a)\"><g class=\"toyplot-mark-Graph\" id=\"t0962298ba0ba4b9fbcab91137d4009ad\"><g class=\"toyplot-Edges\"><path d=\"M 173.95833333333334 50.0 L 225.0 175.0\" style=\"fill:none;stroke:rgb(16.1%,15.3%,14.1%);stroke-linecap:round;stroke-opacity:1.0;stroke-width:2\"></path><path d=\"M 122.91666666666666 91.66666666666667 L 166.66666666666666 175.0\" style=\"fill:none;stroke:rgb(16.1%,15.3%,14.1%);stroke-linecap:round;stroke-opacity:1.0;stroke-width:2\"></path><path d=\"M 79.16666666666667 133.33333333333334 L 108.33333333333334 175.0\" style=\"fill:none;stroke:rgb(16.1%,15.3%,14.1%);stroke-linecap:round;stroke-opacity:1.0;stroke-width:2\"></path><path d=\"M 79.16666666666667 133.33333333333334 L 50.0 175.0\" style=\"fill:none;stroke:rgb(16.1%,15.3%,14.1%);stroke-linecap:round;stroke-opacity:1.0;stroke-width:2\"></path><path d=\"M 122.91666666666666 91.66666666666667 L 79.16666666666667 133.33333333333334\" style=\"fill:none;stroke:rgb(16.1%,15.3%,14.1%);stroke-linecap:round;stroke-opacity:1.0;stroke-width:2\"></path><path d=\"M 173.95833333333334 50.0 L 122.91666666666666 91.66666666666667\" style=\"fill:none;stroke:rgb(16.1%,15.3%,14.1%);stroke-linecap:round;stroke-opacity:1.0;stroke-width:2\"></path><g class=\"toyplot-HeadMarkers\"></g><g class=\"toyplot-MiddleMarkers\"></g><g class=\"toyplot-TailMarkers\"></g></g><g class=\"toyplot-Vertices\"><g class=\"toyplot-Datum\" style=\"fill:rgb(40%,76.1%,64.7%);fill-opacity:1.0;opacity:1.0;stroke:rgb(40%,76.1%,64.7%);stroke-opacity:1.0\" transform=\"translate(50.0, 175.0)\"><circle r=\"0.0\"></circle></g><g class=\"toyplot-Datum\" style=\"fill:rgb(40%,76.1%,64.7%);fill-opacity:1.0;opacity:1.0;stroke:rgb(40%,76.1%,64.7%);stroke-opacity:1.0\" transform=\"translate(108.33333333333334, 175.0)\"><circle r=\"0.0\"></circle></g><g class=\"toyplot-Datum\" style=\"fill:rgb(40%,76.1%,64.7%);fill-opacity:1.0;opacity:1.0;stroke:rgb(40%,76.1%,64.7%);stroke-opacity:1.0\" transform=\"translate(166.66666666666666, 175.0)\"><circle r=\"0.0\"></circle></g><g class=\"toyplot-Datum\" style=\"fill:rgb(40%,76.1%,64.7%);fill-opacity:1.0;opacity:1.0;stroke:rgb(40%,76.1%,64.7%);stroke-opacity:1.0\" transform=\"translate(225.0, 175.0)\"><circle r=\"0.0\"></circle></g><g class=\"toyplot-Datum\" style=\"fill:rgb(40%,76.1%,64.7%);fill-opacity:1.0;opacity:1.0;stroke:rgb(40%,76.1%,64.7%);stroke-opacity:1.0\" transform=\"translate(79.16666666666667, 133.33333333333334)\"><circle r=\"0.0\"></circle></g><g class=\"toyplot-Datum\" style=\"fill:rgb(40%,76.1%,64.7%);fill-opacity:1.0;opacity:1.0;stroke:rgb(40%,76.1%,64.7%);stroke-opacity:1.0\" transform=\"translate(122.91666666666666, 91.66666666666667)\"><circle r=\"0.0\"></circle></g><g class=\"toyplot-Datum\" style=\"fill:rgb(40%,76.1%,64.7%);fill-opacity:1.0;opacity:1.0;stroke:rgb(40%,76.1%,64.7%);stroke-opacity:1.0\" transform=\"translate(173.95833333333334, 50.0)\"><circle r=\"0.0\"></circle></g></g></g><g class=\"toyplot-mark-Text\" id=\"t265526f7510c46488e89ae0df8816ea6\"><g class=\"toyplot-Series\"></g></g><g class=\"toyplot-mark-Scatterplot\" id=\"tce729b3e96224af58a1f901bf27ab1ca\"><g class=\"toyplot-Series\"><g class=\"toyplot-Datum\" style=\"fill:rgb(40%,76.1%,64.7%);fill-opacity:1.0;opacity:1.0;stroke:none\" transform=\"translate(50.0, 175.0)\"><circle r=\"7.5\"></circle><g><text style=\"fill:rgb(16.1%,15.3%,14.1%);fill-opacity:1.0;font-family:helvetica;font-size:10.0px;font-weight:normal;stroke:none;vertical-align:baseline;white-space:pre\" x=\"-4.445\" y=\"2.5549999999999997\">r3</text></g></g><g class=\"toyplot-Datum\" style=\"fill:rgb(40%,76.1%,64.7%);fill-opacity:1.0;opacity:1.0;stroke:none\" transform=\"translate(108.33333333333334, 175.0)\"><circle r=\"7.5\"></circle><g><text style=\"fill:rgb(16.1%,15.3%,14.1%);fill-opacity:1.0;font-family:helvetica;font-size:10.0px;font-weight:normal;stroke:none;vertical-align:baseline;white-space:pre\" x=\"-4.445\" y=\"2.5549999999999997\">r2</text></g></g><g class=\"toyplot-Datum\" style=\"fill:rgb(40%,76.1%,64.7%);fill-opacity:1.0;opacity:1.0;stroke:none\" transform=\"translate(166.66666666666666, 175.0)\"><circle r=\"7.5\"></circle><g><text style=\"fill:rgb(16.1%,15.3%,14.1%);fill-opacity:1.0;font-family:helvetica;font-size:10.0px;font-weight:normal;stroke:none;vertical-align:baseline;white-space:pre\" x=\"-4.445\" y=\"2.5549999999999997\">r1</text></g></g><g class=\"toyplot-Datum\" style=\"fill:rgb(40%,76.1%,64.7%);fill-opacity:1.0;opacity:1.0;stroke:none\" transform=\"translate(225.0, 175.0)\"><circle r=\"7.5\"></circle><g><text style=\"fill:rgb(16.1%,15.3%,14.1%);fill-opacity:1.0;font-family:helvetica;font-size:10.0px;font-weight:normal;stroke:none;vertical-align:baseline;white-space:pre\" x=\"-4.445\" y=\"2.5549999999999997\">r0</text></g></g><g class=\"toyplot-Datum\" style=\"fill:rgb(40%,76.1%,64.7%);fill-opacity:1.0;opacity:1.0;stroke:none\" transform=\"translate(79.16666666666667, 133.33333333333334)\"><circle r=\"7.5\"></circle><g><text style=\"fill:rgb(16.1%,15.3%,14.1%);fill-opacity:1.0;font-family:helvetica;font-size:10.0px;font-weight:normal;stroke:none;vertical-align:baseline;white-space:pre\" x=\"-3.89\" y=\"2.5549999999999997\">i4</text></g></g><g class=\"toyplot-Datum\" style=\"fill:rgb(40%,76.1%,64.7%);fill-opacity:1.0;opacity:1.0;stroke:none\" transform=\"translate(122.91666666666666, 91.66666666666667)\"><circle r=\"7.5\"></circle><g><text style=\"fill:rgb(16.1%,15.3%,14.1%);fill-opacity:1.0;font-family:helvetica;font-size:10.0px;font-weight:normal;stroke:none;vertical-align:baseline;white-space:pre\" x=\"-3.89\" y=\"2.5549999999999997\">i5</text></g></g><g class=\"toyplot-Datum\" style=\"fill:rgb(40%,76.1%,64.7%);fill-opacity:1.0;opacity:1.0;stroke:none\" transform=\"translate(173.95833333333334, 50.0)\"><circle r=\"7.5\"></circle><g><text style=\"fill:rgb(16.1%,15.3%,14.1%);fill-opacity:1.0;font-family:helvetica;font-size:10.0px;font-weight:normal;stroke:none;vertical-align:baseline;white-space:pre\" x=\"-3.89\" y=\"2.5549999999999997\">i6</text></g></g></g></g></g><g class=\"toyplot-coordinates-Axis\" id=\"t0b94592e222c48e1b4050f0acd6d96ef\" transform=\"translate(50.0,175.0)rotate(-90.0)translate(0,-20.0)\"><line style=\"\" x1=\"0\" x2=\"125.0\" y1=\"0\" y2=\"0\"></line><g><line style=\"\" x1=\"0.0\" x2=\"0.0\" y1=\"0\" y2=\"5\"></line><line style=\"\" x1=\"41.666666666666664\" x2=\"41.666666666666664\" y1=\"0\" y2=\"5\"></line><line style=\"\" x1=\"83.33333333333333\" x2=\"83.33333333333333\" y1=\"0\" y2=\"5\"></line><line style=\"\" x1=\"125.0\" x2=\"125.0\" y1=\"0\" y2=\"5\"></line></g><g><g transform=\"translate(0.0,-6)rotate(90)\"><text style=\"fill:rgb(16.1%,15.3%,14.1%);fill-opacity:1.0;font-family:helvetica;font-size:10.0px;font-weight:normal;stroke:none;vertical-align:baseline;white-space:pre\" x=\"-5.56\" y=\"2.5549999999999997\">0</text></g><g transform=\"translate(41.666666666666664,-6)rotate(90)\"><text style=\"fill:rgb(16.1%,15.3%,14.1%);fill-opacity:1.0;font-family:helvetica;font-size:10.0px;font-weight:normal;stroke:none;vertical-align:baseline;white-space:pre\" x=\"-5.56\" y=\"2.5549999999999997\">1</text></g><g transform=\"translate(83.33333333333333,-6)rotate(90)\"><text style=\"fill:rgb(16.1%,15.3%,14.1%);fill-opacity:1.0;font-family:helvetica;font-size:10.0px;font-weight:normal;stroke:none;vertical-align:baseline;white-space:pre\" x=\"-5.56\" y=\"2.5549999999999997\">2</text></g><g transform=\"translate(125.0,-6)rotate(90)\"><text style=\"fill:rgb(16.1%,15.3%,14.1%);fill-opacity:1.0;font-family:helvetica;font-size:10.0px;font-weight:normal;stroke:none;vertical-align:baseline;white-space:pre\" x=\"-5.56\" y=\"2.5549999999999997\">3</text></g></g><g class=\"toyplot-coordinates-Axis-coordinates\" style=\"visibility:hidden\" transform=\"\"><line style=\"stroke:rgb(43.9%,50.2%,56.5%);stroke-opacity:1.0;stroke-width:1.0\" x1=\"0\" x2=\"0\" y1=\"3.0\" y2=\"-4.5\"></line><text style=\"alignment-baseline:hanging;fill:rgb(43.9%,50.2%,56.5%);fill-opacity:1.0;font-size:10px;font-weight:normal;stroke:none;text-anchor:middle\" x=\"0\" y=\"6\"></text></g></g></g></svg><div class=\"toyplot-behavior\"><script>(function()\n",
       "{\n",
       "var modules={};\n",
       "modules[\"toyplot/tables\"] = (function()\n",
       "    {\n",
       "        var tables = [];\n",
       "\n",
       "        var module = {};\n",
       "\n",
       "        module.set = function(owner, key, names, columns)\n",
       "        {\n",
       "            tables.push({owner: owner, key: key, names: names, columns: columns});\n",
       "        }\n",
       "\n",
       "        module.get = function(owner, key)\n",
       "        {\n",
       "            for(var i = 0; i != tables.length; ++i)\n",
       "            {\n",
       "                var table = tables[i];\n",
       "                if(table.owner != owner)\n",
       "                    continue;\n",
       "                if(table.key != key)\n",
       "                    continue;\n",
       "                return {names: table.names, columns: table.columns};\n",
       "            }\n",
       "        }\n",
       "\n",
       "        module.get_csv = function(owner, key)\n",
       "        {\n",
       "            var table = module.get(owner, key);\n",
       "            if(table != undefined)\n",
       "            {\n",
       "                var csv = \"\";\n",
       "                csv += table.names.join(\",\") + \"\\n\";\n",
       "                for(var i = 0; i != table.columns[0].length; ++i)\n",
       "                {\n",
       "                  for(var j = 0; j != table.columns.length; ++j)\n",
       "                  {\n",
       "                    if(j)\n",
       "                      csv += \",\";\n",
       "                    csv += table.columns[j][i];\n",
       "                  }\n",
       "                  csv += \"\\n\";\n",
       "                }\n",
       "                return csv;\n",
       "            }\n",
       "        }\n",
       "\n",
       "        return module;\n",
       "    })();\n",
       "modules[\"toyplot/root/id\"] = \"t28173185d0674d6d9ae4a87a223684f0\";\n",
       "modules[\"toyplot/root\"] = (function(root_id)\n",
       "    {\n",
       "        return document.querySelector(\"#\" + root_id);\n",
       "    })(modules[\"toyplot/root/id\"]);\n",
       "modules[\"toyplot/canvas/id\"] = \"t82d7fec94ea54f4183d16df92c1ec584\";\n",
       "modules[\"toyplot/canvas\"] = (function(canvas_id)\n",
       "    {\n",
       "        return document.querySelector(\"#\" + canvas_id);\n",
       "    })(modules[\"toyplot/canvas/id\"]);\n",
       "modules[\"toyplot/menus/context\"] = (function(root, canvas)\n",
       "    {\n",
       "        var wrapper = document.createElement(\"div\");\n",
       "        wrapper.innerHTML = \"<ul class='toyplot-context-menu' style='background:#eee; border:1px solid #b8b8b8; border-radius:5px; box-shadow: 0px 0px 8px rgba(0%,0%,0%,0.25); margin:0; padding:3px 0; position:fixed; visibility:hidden;'></ul>\"\n",
       "        var menu = wrapper.firstChild;\n",
       "\n",
       "        root.appendChild(menu);\n",
       "\n",
       "        var items = [];\n",
       "\n",
       "        var ignore_mouseup = null;\n",
       "        function open_menu(e)\n",
       "        {\n",
       "            var show_menu = false;\n",
       "            for(var index=0; index != items.length; ++index)\n",
       "            {\n",
       "                var item = items[index];\n",
       "                if(item.show(e))\n",
       "                {\n",
       "                    item.item.style.display = \"block\";\n",
       "                    show_menu = true;\n",
       "                }\n",
       "                else\n",
       "                {\n",
       "                    item.item.style.display = \"none\";\n",
       "                }\n",
       "            }\n",
       "\n",
       "            if(show_menu)\n",
       "            {\n",
       "                ignore_mouseup = true;\n",
       "                menu.style.left = (e.clientX + 1) + \"px\";\n",
       "                menu.style.top = (e.clientY - 5) + \"px\";\n",
       "                menu.style.visibility = \"visible\";\n",
       "                e.stopPropagation();\n",
       "                e.preventDefault();\n",
       "            }\n",
       "        }\n",
       "\n",
       "        function close_menu()\n",
       "        {\n",
       "            menu.style.visibility = \"hidden\";\n",
       "        }\n",
       "\n",
       "        function contextmenu(e)\n",
       "        {\n",
       "            open_menu(e);\n",
       "        }\n",
       "\n",
       "        function mousemove(e)\n",
       "        {\n",
       "            ignore_mouseup = false;\n",
       "        }\n",
       "\n",
       "        function mouseup(e)\n",
       "        {\n",
       "            if(ignore_mouseup)\n",
       "            {\n",
       "                ignore_mouseup = false;\n",
       "                return;\n",
       "            }\n",
       "            close_menu();\n",
       "        }\n",
       "\n",
       "        function keydown(e)\n",
       "        {\n",
       "            if(e.key == \"Escape\" || e.key == \"Esc\" || e.keyCode == 27)\n",
       "            {\n",
       "                close_menu();\n",
       "            }\n",
       "        }\n",
       "\n",
       "        canvas.addEventListener(\"contextmenu\", contextmenu);\n",
       "        canvas.addEventListener(\"mousemove\", mousemove);\n",
       "        document.addEventListener(\"mouseup\", mouseup);\n",
       "        document.addEventListener(\"keydown\", keydown);\n",
       "\n",
       "        var module = {};\n",
       "        module.add_item = function(label, show, activate)\n",
       "        {\n",
       "            var wrapper = document.createElement(\"div\");\n",
       "            wrapper.innerHTML = \"<li class='toyplot-context-menu-item' style='background:#eee; color:#333; padding:2px 20px; list-style:none; margin:0; text-align:left;'>\" + label + \"</li>\"\n",
       "            var item = wrapper.firstChild;\n",
       "\n",
       "            items.push({item: item, show: show});\n",
       "\n",
       "            function mouseover()\n",
       "            {\n",
       "                this.style.background = \"steelblue\";\n",
       "                this.style.color = \"white\";\n",
       "            }\n",
       "\n",
       "            function mouseout()\n",
       "            {\n",
       "                this.style.background = \"#eee\";\n",
       "                this.style.color = \"#333\";\n",
       "            }\n",
       "\n",
       "            function choose_item(e)\n",
       "            {\n",
       "                close_menu();\n",
       "                activate();\n",
       "\n",
       "                e.stopPropagation();\n",
       "                e.preventDefault();\n",
       "            }\n",
       "\n",
       "            item.addEventListener(\"mouseover\", mouseover);\n",
       "            item.addEventListener(\"mouseout\", mouseout);\n",
       "            item.addEventListener(\"mouseup\", choose_item);\n",
       "            item.addEventListener(\"contextmenu\", choose_item);\n",
       "\n",
       "            menu.appendChild(item);\n",
       "        };\n",
       "        return module;\n",
       "    })(modules[\"toyplot/root\"],modules[\"toyplot/canvas\"]);\n",
       "modules[\"toyplot/io\"] = (function()\n",
       "    {\n",
       "        var module = {};\n",
       "        module.save_file = function(mime_type, charset, data, filename)\n",
       "        {\n",
       "            var uri = \"data:\" + mime_type + \";charset=\" + charset + \",\" + data;\n",
       "            uri = encodeURI(uri);\n",
       "\n",
       "            var link = document.createElement(\"a\");\n",
       "            if(typeof link.download != \"undefined\")\n",
       "            {\n",
       "              link.href = uri;\n",
       "              link.style = \"visibility:hidden\";\n",
       "              link.download = filename;\n",
       "\n",
       "              document.body.appendChild(link);\n",
       "              link.click();\n",
       "              document.body.removeChild(link);\n",
       "            }\n",
       "            else\n",
       "            {\n",
       "              window.open(uri);\n",
       "            }\n",
       "        };\n",
       "        return module;\n",
       "    })();\n",
       "modules[\"toyplot.coordinates.Axis\"] = (\n",
       "        function(canvas)\n",
       "        {\n",
       "            function sign(x)\n",
       "            {\n",
       "                return x < 0 ? -1 : x > 0 ? 1 : 0;\n",
       "            }\n",
       "\n",
       "            function mix(a, b, amount)\n",
       "            {\n",
       "                return ((1.0 - amount) * a) + (amount * b);\n",
       "            }\n",
       "\n",
       "            function log(x, base)\n",
       "            {\n",
       "                return Math.log(Math.abs(x)) / Math.log(base);\n",
       "            }\n",
       "\n",
       "            function in_range(a, x, b)\n",
       "            {\n",
       "                var left = Math.min(a, b);\n",
       "                var right = Math.max(a, b);\n",
       "                return left <= x && x <= right;\n",
       "            }\n",
       "\n",
       "            function inside(range, projection)\n",
       "            {\n",
       "                for(var i = 0; i != projection.length; ++i)\n",
       "                {\n",
       "                    var segment = projection[i];\n",
       "                    if(in_range(segment.range.min, range, segment.range.max))\n",
       "                        return true;\n",
       "                }\n",
       "                return false;\n",
       "            }\n",
       "\n",
       "            function to_domain(range, projection)\n",
       "            {\n",
       "                for(var i = 0; i != projection.length; ++i)\n",
       "                {\n",
       "                    var segment = projection[i];\n",
       "                    if(in_range(segment.range.bounds.min, range, segment.range.bounds.max))\n",
       "                    {\n",
       "                        if(segment.scale == \"linear\")\n",
       "                        {\n",
       "                            var amount = (range - segment.range.min) / (segment.range.max - segment.range.min);\n",
       "                            return mix(segment.domain.min, segment.domain.max, amount)\n",
       "                        }\n",
       "                        else if(segment.scale[0] == \"log\")\n",
       "                        {\n",
       "                            var amount = (range - segment.range.min) / (segment.range.max - segment.range.min);\n",
       "                            var base = segment.scale[1];\n",
       "                            return sign(segment.domain.min) * Math.pow(base, mix(log(segment.domain.min, base), log(segment.domain.max, base), amount));\n",
       "                        }\n",
       "                    }\n",
       "                }\n",
       "            }\n",
       "\n",
       "            var axes = {};\n",
       "\n",
       "            function display_coordinates(e)\n",
       "            {\n",
       "                var current = canvas.createSVGPoint();\n",
       "                current.x = e.clientX;\n",
       "                current.y = e.clientY;\n",
       "\n",
       "                for(var axis_id in axes)\n",
       "                {\n",
       "                    var axis = document.querySelector(\"#\" + axis_id);\n",
       "                    var coordinates = axis.querySelector(\".toyplot-coordinates-Axis-coordinates\");\n",
       "                    if(coordinates)\n",
       "                    {\n",
       "                        var projection = axes[axis_id];\n",
       "                        var local = current.matrixTransform(axis.getScreenCTM().inverse());\n",
       "                        if(inside(local.x, projection))\n",
       "                        {\n",
       "                            var domain = to_domain(local.x, projection);\n",
       "                            coordinates.style.visibility = \"visible\";\n",
       "                            coordinates.setAttribute(\"transform\", \"translate(\" + local.x + \")\");\n",
       "                            var text = coordinates.querySelector(\"text\");\n",
       "                            text.textContent = domain.toFixed(2);\n",
       "                        }\n",
       "                        else\n",
       "                        {\n",
       "                            coordinates.style.visibility= \"hidden\";\n",
       "                        }\n",
       "                    }\n",
       "                }\n",
       "            }\n",
       "\n",
       "            canvas.addEventListener(\"click\", display_coordinates);\n",
       "\n",
       "            var module = {};\n",
       "            module.show_coordinates = function(axis_id, projection)\n",
       "            {\n",
       "                axes[axis_id] = projection;\n",
       "            }\n",
       "\n",
       "            return module;\n",
       "        })(modules[\"toyplot/canvas\"]);\n",
       "(function(tables, context_menu, io, owner_id, key, label, names, columns, filename)\n",
       "        {\n",
       "            tables.set(owner_id, key, names, columns);\n",
       "\n",
       "            var owner = document.querySelector(\"#\" + owner_id);\n",
       "            function show_item(e)\n",
       "            {\n",
       "                return owner.contains(e.target);\n",
       "            }\n",
       "\n",
       "            function choose_item()\n",
       "            {\n",
       "                io.save_file(\"text/csv\", \"utf-8\", tables.get_csv(owner_id, key), filename + \".csv\");\n",
       "            }\n",
       "\n",
       "            context_menu.add_item(\"Save \" + label + \" as CSV\", show_item, choose_item);\n",
       "        })(modules[\"toyplot/tables\"],modules[\"toyplot/menus/context\"],modules[\"toyplot/io\"],\"t0962298ba0ba4b9fbcab91137d4009ad\",\"vertex_data\",\"graph vertex data\",[\"x\", \"y\"],[[0.0, 1.0, 2.0, 3.0, 0.5, 1.25, 2.125], [0.0, 0.0, 0.0, 0.0, 1.0, 2.0, 3.0]],\"toyplot\");\n",
       "(function(tables, context_menu, io, owner_id, key, label, names, columns, filename)\n",
       "        {\n",
       "            tables.set(owner_id, key, names, columns);\n",
       "\n",
       "            var owner = document.querySelector(\"#\" + owner_id);\n",
       "            function show_item(e)\n",
       "            {\n",
       "                return owner.contains(e.target);\n",
       "            }\n",
       "\n",
       "            function choose_item()\n",
       "            {\n",
       "                io.save_file(\"text/csv\", \"utf-8\", tables.get_csv(owner_id, key), filename + \".csv\");\n",
       "            }\n",
       "\n",
       "            context_menu.add_item(\"Save \" + label + \" as CSV\", show_item, choose_item);\n",
       "        })(modules[\"toyplot/tables\"],modules[\"toyplot/menus/context\"],modules[\"toyplot/io\"],\"t0962298ba0ba4b9fbcab91137d4009ad\",\"edge_data\",\"graph edge data\",[\"source\", \"target\"],[[6, 5, 4, 4, 5, 6], [3, 2, 1, 0, 4, 5]],\"toyplot\");\n",
       "(function(tables, context_menu, io, owner_id, key, label, names, columns, filename)\n",
       "        {\n",
       "            tables.set(owner_id, key, names, columns);\n",
       "\n",
       "            var owner = document.querySelector(\"#\" + owner_id);\n",
       "            function show_item(e)\n",
       "            {\n",
       "                return owner.contains(e.target);\n",
       "            }\n",
       "\n",
       "            function choose_item()\n",
       "            {\n",
       "                io.save_file(\"text/csv\", \"utf-8\", tables.get_csv(owner_id, key), filename + \".csv\");\n",
       "            }\n",
       "\n",
       "            context_menu.add_item(\"Save \" + label + \" as CSV\", show_item, choose_item);\n",
       "        })(modules[\"toyplot/tables\"],modules[\"toyplot/menus/context\"],modules[\"toyplot/io\"],\"tce729b3e96224af58a1f901bf27ab1ca\",\"data\",\"scatterplot\",[\"x\", \"y0\"],[[0.0, 1.0, 2.0, 3.0, 0.5, 1.25, 2.125], [0.0, 0.0, 0.0, 0.0, 1.0, 2.0, 3.0]],\"toyplot\");\n",
       "(function(axis, axis_id, projection)\n",
       "        {\n",
       "            axis.show_coordinates(axis_id, projection);\n",
       "        })(modules[\"toyplot.coordinates.Axis\"],\"t0b94592e222c48e1b4050f0acd6d96ef\",[{\"domain\": {\"bounds\": {\"max\": Infinity, \"min\": -Infinity}, \"max\": 3.0, \"min\": 0.0}, \"range\": {\"bounds\": {\"max\": Infinity, \"min\": -Infinity}, \"max\": 125.0, \"min\": 0.0}, \"scale\": \"linear\"}]);\n",
       "})();</script></div></div>"
      ]
     },
     "metadata": {},
     "output_type": "display_data"
    }
   ],
   "source": [
    "## generate a random tree\n",
    "tree = toytree.rtree.unittree(ntips=4, treeheight=3, seed=12345)\n",
    "c, a = tree.draw(tree_style='c',node_labels=tree.get_node_values('name',show_root=True,show_tips=True))"
   ]
  },
  {
   "cell_type": "code",
   "execution_count": 28,
   "metadata": {},
   "outputs": [
    {
     "name": "stdout",
     "output_type": "stream",
     "text": [
      "stored 18000 labels to /Volumes/My Passport/sims/databases/bounded_05_4.hdf5\n"
     ]
    }
   ],
   "source": [
    "## init a database\n",
    "db1 = simcat.DataBase(\n",
    "    name=\"bounded_05_4\", \n",
    "    workdir=\"./databases\", \n",
    "    tree=tree, \n",
    "    nedges=1,\n",
    "    ntrees=500,\n",
    "    ntests=1,\n",
    "    nreps=2,\n",
    "    edge_function=\"node_slider\",\n",
    "    constrained_times=2,\n",
    "    mig_rate_bounds = [.05,.4],\n",
    "    force=True)"
   ]
  },
  {
   "cell_type": "code",
   "execution_count": 29,
   "metadata": {},
   "outputs": [],
   "source": [
    "ipyclient = ipp.Client()"
   ]
  },
  {
   "cell_type": "code",
   "execution_count": 30,
   "metadata": {},
   "outputs": [
    {
     "data": {
      "text/plain": [
       "<ipyparallel.client.client.Client at 0x182cb14850>"
      ]
     },
     "execution_count": 30,
     "metadata": {},
     "output_type": "execute_result"
    }
   ],
   "source": [
    "ipyclient"
   ]
  },
  {
   "cell_type": "code",
   "execution_count": 31,
   "metadata": {},
   "outputs": [
    {
     "name": "stderr",
     "output_type": "stream",
     "text": [
      "host compute node: [4 cores] on Patricks-MBP.fios-router.home\n",
      "[                    ]   0% | 0:00:00 | simulating count matrices"
     ]
    },
    {
     "name": "stdout",
     "output_type": "stream",
     "text": [
      "submitting jobs\n"
     ]
    },
    {
     "name": "stderr",
     "output_type": "stream",
     "text": [
      "[                    ]   0% | 0:03:04 | simulating count matrices"
     ]
    },
    {
     "name": "stdout",
     "output_type": "stream",
     "text": [
      "Done with round: 0 of 5\n"
     ]
    },
    {
     "name": "stderr",
     "output_type": "stream",
     "text": [
      "[                    ]   0% | 0:05:44 | simulating count matrices"
     ]
    },
    {
     "name": "stdout",
     "output_type": "stream",
     "text": [
      "Done with round: 1 of 5\n"
     ]
    },
    {
     "name": "stderr",
     "output_type": "stream",
     "text": [
      "[                    ]   0% | 0:08:32 | simulating count matrices"
     ]
    },
    {
     "name": "stdout",
     "output_type": "stream",
     "text": [
      "Done with round: 2 of 5\n"
     ]
    },
    {
     "name": "stderr",
     "output_type": "stream",
     "text": [
      "[                    ]   0% | 0:11:46 | simulating count matrices"
     ]
    },
    {
     "name": "stdout",
     "output_type": "stream",
     "text": [
      "Done with round: 3 of 5\n"
     ]
    },
    {
     "name": "stderr",
     "output_type": "stream",
     "text": [
      "[                    ]   0% | 0:13:44 | simulating count matrices"
     ]
    },
    {
     "name": "stdout",
     "output_type": "stream",
     "text": [
      "Done with round: 4 of 5\n"
     ]
    }
   ],
   "source": [
    "db1.run(ipyclient)"
   ]
  },
  {
   "cell_type": "code",
   "execution_count": 27,
   "metadata": {},
   "outputs": [
    {
     "data": {
      "text/plain": [
       "4"
      ]
     },
     "execution_count": 27,
     "metadata": {},
     "output_type": "execute_result"
    }
   ],
   "source": [
    "2+2"
   ]
  },
  {
   "cell_type": "code",
   "execution_count": 8,
   "metadata": {},
   "outputs": [],
   "source": [
    "dat=h5py.File(\"databases/starting_sims.hdf5\")"
   ]
  },
  {
   "cell_type": "code",
   "execution_count": 9,
   "metadata": {},
   "outputs": [
    {
     "data": {
      "text/plain": [
       "(460000, 15, 16, 16)"
      ]
     },
     "execution_count": 9,
     "metadata": {},
     "output_type": "execute_result"
    }
   ],
   "source": [
    "dat['counts'].shape"
   ]
  },
  {
   "cell_type": "code",
   "execution_count": 26,
   "metadata": {},
   "outputs": [],
   "source": [
    "mat = dat['counts'][0][0]"
   ]
  },
  {
   "cell_type": "code",
   "execution_count": 27,
   "metadata": {},
   "outputs": [],
   "source": [
    "abba = mat[1,4]+mat[2,8]+mat[3,12]+mat[4,1]+mat[6,9]+mat[7,13]+mat[8,2]+mat[9,6]+mat[11,14]+mat[12,3]+mat[13,7]+mat[14,11]\n",
    "baba = mat[1,1]+mat[2,2]+mat[3,3]+mat[4,4]+mat[6,6]+mat[7,7]+mat[8,8]+mat[9,9]+mat[11,11]+mat[12,12]+mat[13,13]+mat[14,14]"
   ]
  },
  {
   "cell_type": "code",
   "execution_count": 28,
   "metadata": {},
   "outputs": [
    {
     "data": {
      "text/plain": [
       "0.07692308547581485"
      ]
     },
     "execution_count": 28,
     "metadata": {},
     "output_type": "execute_result"
    }
   ],
   "source": [
    "float(abba-baba)/(abba+baba)"
   ]
  },
  {
   "cell_type": "code",
   "execution_count": 11,
   "metadata": {},
   "outputs": [
    {
     "data": {
      "text/plain": [
       "array([[0.7113402 , 0.11340206, 0.12371134, 0.12371134, 0.11340206,\n",
       "        0.19587629, 0.        , 0.        , 0.11340206, 0.        ,\n",
       "        0.0927835 , 0.        , 0.13402061, 0.        , 0.        ,\n",
       "        0.13402061],\n",
       "       [0.12371134, 0.        , 0.        , 0.        , 0.        ,\n",
       "        0.13402061, 0.        , 0.        , 0.        , 0.        ,\n",
       "        0.        , 0.        , 0.        , 0.        , 0.        ,\n",
       "        0.        ],\n",
       "       [0.08247422, 0.        , 0.01030928, 0.        , 0.        ,\n",
       "        0.        , 0.        , 0.        , 0.        , 0.        ,\n",
       "        0.15463917, 0.        , 0.        , 0.        , 0.        ,\n",
       "        0.        ],\n",
       "       [0.16494845, 0.        , 0.        , 0.        , 0.        ,\n",
       "        0.        , 0.        , 0.        , 0.        , 0.        ,\n",
       "        0.        , 0.        , 0.02061856, 0.        , 0.        ,\n",
       "        0.11340206],\n",
       "       [0.03092784, 0.        , 0.        , 0.        , 0.        ,\n",
       "        0.06185567, 0.        , 0.        , 0.        , 0.        ,\n",
       "        0.        , 0.        , 0.        , 0.        , 0.        ,\n",
       "        0.        ],\n",
       "       [0.185567  , 0.14432989, 0.        , 0.        , 0.13402061,\n",
       "        0.6701031 , 0.11340206, 0.16494845, 0.        , 0.20618556,\n",
       "        0.10309278, 0.        , 0.        , 0.14432989, 0.        ,\n",
       "        0.11340206],\n",
       "       [0.        , 0.        , 0.        , 0.        , 0.        ,\n",
       "        0.185567  , 0.        , 0.        , 0.        , 0.        ,\n",
       "        0.11340206, 0.        , 0.        , 0.        , 0.        ,\n",
       "        0.        ],\n",
       "       [0.        , 0.        , 0.        , 0.        , 0.        ,\n",
       "        0.07216495, 0.        , 0.01030928, 0.        , 0.        ,\n",
       "        0.        , 0.        , 0.        , 0.        , 0.        ,\n",
       "        0.11340206],\n",
       "       [0.05154639, 0.        , 0.        , 0.        , 0.        ,\n",
       "        0.        , 0.        , 0.        , 0.        , 0.        ,\n",
       "        0.07216495, 0.        , 0.        , 0.        , 0.        ,\n",
       "        0.        ],\n",
       "       [0.        , 0.        , 0.        , 0.        , 0.        ,\n",
       "        0.11340206, 0.02061856, 0.        , 0.        , 0.        ,\n",
       "        0.15463917, 0.        , 0.        , 0.        , 0.        ,\n",
       "        0.        ],\n",
       "       [0.19587629, 0.        , 0.185567  , 0.        , 0.        ,\n",
       "        0.14432989, 0.13402061, 0.        , 0.15463917, 0.17525773,\n",
       "        0.6082474 , 0.15463917, 0.        , 0.        , 0.15463917,\n",
       "        0.0927835 ],\n",
       "       [0.        , 0.        , 0.        , 0.        , 0.        ,\n",
       "        0.        , 0.        , 0.        , 0.        , 0.        ,\n",
       "        0.12371134, 0.01030928, 0.        , 0.        , 0.        ,\n",
       "        0.08247422],\n",
       "       [0.11340206, 0.        , 0.        , 0.01030928, 0.        ,\n",
       "        0.        , 0.        , 0.        , 0.        , 0.        ,\n",
       "        0.        , 0.        , 0.01030928, 0.        , 0.        ,\n",
       "        0.14432989],\n",
       "       [0.        , 0.        , 0.        , 0.        , 0.        ,\n",
       "        0.10309278, 0.        , 0.01030928, 0.        , 0.        ,\n",
       "        0.        , 0.        , 0.        , 0.02061856, 0.        ,\n",
       "        0.0927835 ],\n",
       "       [0.        , 0.        , 0.        , 0.        , 0.        ,\n",
       "        0.        , 0.        , 0.        , 0.        , 0.        ,\n",
       "        0.07216495, 0.01030928, 0.        , 0.        , 0.        ,\n",
       "        0.13402061],\n",
       "       [0.12371134, 0.        , 0.        , 0.13402061, 0.        ,\n",
       "        0.13402061, 0.        , 0.17525773, 0.        , 0.        ,\n",
       "        0.08247422, 0.13402061, 0.14432989, 0.13402061, 0.13402061,\n",
       "        0.53608245]], dtype=float32)"
      ]
     },
     "execution_count": 11,
     "metadata": {},
     "output_type": "execute_result"
    }
   ],
   "source": [
    "dat['counts'][0][0]"
   ]
  },
  {
   "cell_type": "code",
   "execution_count": 35,
   "metadata": {},
   "outputs": [],
   "source": [
    "@jit\n",
    "def dstat(mat):\n",
    "    '''\n",
    "    input a 2d square site count matrix, output a d statistic (float)\n",
    "    '''\n",
    "    abba = (mat[1,4]+mat[2,8]+mat[3,12]+mat[4,1]+mat[6,9]+mat[7,13]+\n",
    "            mat[8,2]+mat[9,6]+mat[11,14]+mat[12,3]+mat[13,7]+mat[14,11])\n",
    "    baba = (mat[1,1]+mat[2,2]+mat[3,3]+mat[4,4]+mat[6,6]+mat[7,7]+\n",
    "            mat[8,8]+mat[9,9]+mat[11,11]+mat[12,12]+mat[13,13]+mat[14,14])\n",
    "    return(float(abba-baba)/(abba+baba))"
   ]
  },
  {
   "cell_type": "code",
   "execution_count": 75,
   "metadata": {},
   "outputs": [],
   "source": [
    "def dstat3d(simcat_arr):\n",
    "    dstats = np.zeros((len(simcat_arr)))\n",
    "    counter = 0\n",
    "    for layer in simcat_arr:\n",
    "        try:\n",
    "            dstats[counter] = dstat(layer)\n",
    "        except:\n",
    "            # if division by zero error, then return an array of zeros that you can search for later\n",
    "            dstats = np.zeros((len(simcat_arr)))\n",
    "            break\n",
    "        counter += 1\n",
    "    return(dstats)"
   ]
  },
  {
   "cell_type": "code",
   "execution_count": 78,
   "metadata": {},
   "outputs": [],
   "source": [
    "all_dstats = np.zeros(dat['counts'].shape[0:2])"
   ]
  },
  {
   "cell_type": "code",
   "execution_count": 79,
   "metadata": {},
   "outputs": [],
   "source": [
    "for _ in range(len(dat['counts'])):\n",
    "    all_dstats[_]=dstat3d(dat['counts'][_])"
   ]
  },
  {
   "cell_type": "code",
   "execution_count": 81,
   "metadata": {},
   "outputs": [],
   "source": [
    "failed = list()\n",
    "for _ in range(len(all_dstats)):\n",
    "    if np.alltrue(all_dstats[_] == 0):\n",
    "        failed.append(_)"
   ]
  },
  {
   "cell_type": "code",
   "execution_count": 84,
   "metadata": {},
   "outputs": [
    {
     "data": {
      "text/plain": [
       "array([    76,    153,    243, ..., 459851, 459905, 459906])"
      ]
     },
     "execution_count": 84,
     "metadata": {},
     "output_type": "execute_result"
    }
   ],
   "source": [
    "np.array(failed)"
   ]
  },
  {
   "cell_type": "code",
   "execution_count": 97,
   "metadata": {},
   "outputs": [],
   "source": [
    "ind = np.ones((len(all_dstats)), bool)\n",
    "ind[failed] = False"
   ]
  },
  {
   "cell_type": "code",
   "execution_count": 98,
   "metadata": {},
   "outputs": [
    {
     "data": {
      "text/plain": [
       "array([ True,  True,  True, ...,  True,  True,  True])"
      ]
     },
     "execution_count": 98,
     "metadata": {},
     "output_type": "execute_result"
    }
   ],
   "source": [
    "ind"
   ]
  },
  {
   "cell_type": "code",
   "execution_count": 108,
   "metadata": {},
   "outputs": [],
   "source": [
    "sources=dat['admix_sources'][:][ind]\n",
    "targets=dat['admix_targets'][:][ind]\n",
    "combo=np.hstack([sources,targets])"
   ]
  },
  {
   "cell_type": "code",
   "execution_count": 123,
   "metadata": {},
   "outputs": [],
   "source": [
    "class_ids=np.array([str(x) for x in combo])"
   ]
  },
  {
   "cell_type": "code",
   "execution_count": 131,
   "metadata": {},
   "outputs": [],
   "source": [
    "id_dict=dict(enumerate(np.unique(class_ids)))"
   ]
  },
  {
   "cell_type": "code",
   "execution_count": 133,
   "metadata": {},
   "outputs": [],
   "source": [
    "inv_dict = {v: k for k, v in id_dict.iteritems()}"
   ]
  },
  {
   "cell_type": "code",
   "execution_count": 138,
   "metadata": {},
   "outputs": [],
   "source": [
    "class_ids_int = np.zeros(class_ids.shape,dtype=np.int32)\n",
    "counter = 0\n",
    "for str_id in class_ids:\n",
    "    class_ids_int[counter] = inv_dict[str_id]\n",
    "    counter += 1"
   ]
  },
  {
   "cell_type": "code",
   "execution_count": 147,
   "metadata": {},
   "outputs": [],
   "source": [
    "X = all_dstats[ind]\n",
    "y = class_ids_int"
   ]
  },
  {
   "cell_type": "code",
   "execution_count": 154,
   "metadata": {},
   "outputs": [],
   "source": [
    "from sklearn.model_selection import train_test_split\n",
    "from sklearn.preprocessing import StandardScaler\n",
    "\n",
    "X_train, X_test, y_train, y_test = train_test_split(X, y, test_size=0.1, random_state=0)"
   ]
  },
  {
   "cell_type": "code",
   "execution_count": 155,
   "metadata": {},
   "outputs": [],
   "source": [
    "sc = StandardScaler()  \n",
    "X_train = sc.fit_transform(X_train)  \n",
    "X_test = sc.transform(X_test)  "
   ]
  },
  {
   "cell_type": "code",
   "execution_count": 159,
   "metadata": {},
   "outputs": [],
   "source": [
    "from sklearn.ensemble import RandomForestClassifier\n",
    "\n",
    "classifier = RandomForestClassifier(n_estimators=100, random_state=0)  \n",
    "classifier.fit(X_train, y_train)  \n",
    "y_pred = classifier.predict(X_test)  "
   ]
  },
  {
   "cell_type": "code",
   "execution_count": 160,
   "metadata": {},
   "outputs": [
    {
     "name": "stdout",
     "output_type": "stream",
     "text": [
      "[[ 97  22  16 ...   5   5  33]\n",
      " [  6 431 147 ...   0   1   7]\n",
      " [  3 125 469 ...   2   1   3]\n",
      " ...\n",
      " [ 13   7   5 ...  14   7  27]\n",
      " [ 24   8  11 ...   5  10  24]\n",
      " [ 50  26  16 ...  13  15  38]]\n",
      "             precision    recall  f1-score   support\n",
      "\n",
      "          0       0.11      0.10      0.10       973\n",
      "          1       0.31      0.44      0.36       980\n",
      "          2       0.35      0.49      0.41       952\n",
      "          3       0.63      0.85      0.72      1024\n",
      "          4       0.00      0.00      0.00       163\n",
      "          5       0.14      0.04      0.06       215\n",
      "          6       0.09      0.08      0.09       980\n",
      "          7       0.28      0.44      0.34       975\n",
      "          8       0.32      0.46      0.37       951\n",
      "          9       0.57      0.75      0.65       981\n",
      "         10       0.61      0.74      0.67       991\n",
      "         11       0.09      0.03      0.05       538\n",
      "         12       0.12      0.02      0.04       323\n",
      "         13       0.24      0.32      0.27       985\n",
      "         14       0.20      0.29      0.24       930\n",
      "         15       0.09      0.10      0.10       990\n",
      "         16       0.64      0.85      0.73       963\n",
      "         17       0.07      0.01      0.02       475\n",
      "         18       0.32      0.14      0.20       331\n",
      "         19       0.32      0.49      0.39       935\n",
      "         20       0.33      0.49      0.39       970\n",
      "         21       0.12      0.13      0.12       982\n",
      "         22       0.45      0.63      0.52       932\n",
      "         23       0.48      0.60      0.54       977\n",
      "         24       0.10      0.03      0.05       468\n",
      "         25       0.06      0.01      0.01       309\n",
      "         26       0.34      0.52      0.41       997\n",
      "         27       0.35      0.50      0.41      1052\n",
      "         28       0.37      0.56      0.45       997\n",
      "         29       0.31      0.32      0.31       770\n",
      "         30       0.09      0.08      0.08       954\n",
      "         31       0.06      0.03      0.04       682\n",
      "         32       0.10      0.05      0.07       652\n",
      "         33       0.02      0.00      0.01       312\n",
      "         34       0.33      0.52      0.40       964\n",
      "         35       0.34      0.50      0.41      1036\n",
      "         36       0.35      0.47      0.40      1038\n",
      "         37       0.09      0.09      0.09       889\n",
      "         38       0.07      0.04      0.05       656\n",
      "         39       0.16      0.10      0.12       658\n",
      "         40       0.02      0.00      0.01       319\n",
      "         41       0.04      0.01      0.01       516\n",
      "         42       0.06      0.02      0.03       438\n",
      "         43       0.25      0.38      0.30       640\n",
      "         44       0.27      0.38      0.32       656\n",
      "         45       0.07      0.05      0.06       960\n",
      "         46       0.16      0.20      0.18       676\n",
      "         47       0.09      0.02      0.03       530\n",
      "         48       0.08      0.02      0.03       508\n",
      "         49       0.25      0.16      0.19       680\n",
      "         50       0.25      0.19      0.21       623\n",
      "         51       0.06      0.05      0.05       937\n",
      "         52       0.14      0.11      0.12       650\n",
      "         53       0.06      0.01      0.01       335\n",
      "         54       0.05      0.03      0.04      1021\n",
      "         55       0.07      0.01      0.02       332\n",
      "         56       0.10      0.02      0.04       323\n",
      "         57       0.13      0.03      0.05       317\n",
      "         58       0.06      0.01      0.02       336\n",
      "         59       0.05      0.02      0.03       646\n",
      "         60       0.04      0.02      0.02       660\n",
      "         61       0.06      0.04      0.05       962\n",
      "\n",
      "avg / total       0.23      0.29      0.25     45015\n",
      "\n",
      "0.2879928912584694\n"
     ]
    }
   ],
   "source": [
    "from sklearn.metrics import classification_report, confusion_matrix, accuracy_score\n",
    "\n",
    "print(confusion_matrix(y_test,y_pred))  \n",
    "print(classification_report(y_test,y_pred))  \n",
    "print(accuracy_score(y_test, y_pred))  "
   ]
  },
  {
   "cell_type": "code",
   "execution_count": 162,
   "metadata": {},
   "outputs": [
    {
     "data": {
      "text/plain": [
       "LinearSVC(C=1.0, class_weight=None, dual=True, fit_intercept=True,\n",
       "     intercept_scaling=1, loss='squared_hinge', max_iter=1000,\n",
       "     multi_class='ovr', penalty='l2', random_state=None, tol=0.0001,\n",
       "     verbose=0)"
      ]
     },
     "execution_count": 162,
     "metadata": {},
     "output_type": "execute_result"
    }
   ],
   "source": [
    "from sklearn import svm\n",
    "lin_clf = svm.LinearSVC()\n",
    "lin_clf.fit(X_train, y_train)"
   ]
  },
  {
   "cell_type": "code",
   "execution_count": 164,
   "metadata": {},
   "outputs": [],
   "source": [
    "y_pred = lin_clf.predict(X_test)"
   ]
  },
  {
   "cell_type": "code",
   "execution_count": 165,
   "metadata": {},
   "outputs": [
    {
     "name": "stdout",
     "output_type": "stream",
     "text": [
      "[[  0  53  33 ...   0   0   0]\n",
      " [  0 309 198 ...   0   0   1]\n",
      " [  0  63 529 ...   0   0   0]\n",
      " ...\n",
      " [  0  16  26 ...   0   0   0]\n",
      " [  0  35  32 ...   0   0   0]\n",
      " [  0  46  41 ...   0   0   2]]\n",
      "             precision    recall  f1-score   support\n",
      "\n",
      "          0       0.00      0.00      0.00       973\n",
      "          1       0.17      0.32      0.22       980\n",
      "          2       0.22      0.56      0.31       952\n",
      "          3       0.48      0.91      0.63      1024\n",
      "          4       0.00      0.00      0.00       163\n",
      "          5       0.05      0.00      0.01       215\n",
      "          6       0.00      0.00      0.00       980\n",
      "          7       0.16      0.36      0.23       975\n",
      "          8       0.20      0.56      0.30       951\n",
      "          9       0.44      0.80      0.57       981\n",
      "         10       0.44      0.81      0.57       991\n",
      "         11       0.00      0.00      0.00       538\n",
      "         12       0.00      0.00      0.00       323\n",
      "         13       0.06      0.05      0.06       985\n",
      "         14       0.05      0.04      0.05       930\n",
      "         15       0.07      0.03      0.04       990\n",
      "         16       0.45      0.90      0.60       963\n",
      "         17       0.00      0.00      0.00       475\n",
      "         18       0.00      0.00      0.00       331\n",
      "         19       0.21      0.42      0.28       935\n",
      "         20       0.21      0.40      0.28       970\n",
      "         21       0.07      0.03      0.04       982\n",
      "         22       0.10      0.21      0.13       932\n",
      "         23       0.07      0.12      0.09       977\n",
      "         24       0.00      0.00      0.00       468\n",
      "         25       0.00      0.00      0.00       309\n",
      "         26       0.18      0.48      0.26       997\n",
      "         27       0.20      0.49      0.28      1052\n",
      "         28       0.23      0.68      0.35       997\n",
      "         29       0.19      0.08      0.12       770\n",
      "         30       0.00      0.00      0.00       954\n",
      "         31       0.00      0.00      0.00       682\n",
      "         32       0.20      0.00      0.00       652\n",
      "         33       0.00      0.00      0.00       312\n",
      "         34       0.19      0.57      0.28       964\n",
      "         35       0.18      0.40      0.25      1036\n",
      "         36       0.20      0.40      0.27      1038\n",
      "         37       0.00      0.00      0.00       889\n",
      "         38       0.00      0.00      0.00       656\n",
      "         39       0.08      0.01      0.01       658\n",
      "         40       0.00      0.00      0.00       319\n",
      "         41       0.00      0.00      0.00       516\n",
      "         42       0.00      0.00      0.00       438\n",
      "         43       0.16      0.31      0.21       640\n",
      "         44       0.16      0.33      0.22       656\n",
      "         45       0.00      0.00      0.00       960\n",
      "         46       0.06      0.02      0.03       676\n",
      "         47       0.00      0.00      0.00       530\n",
      "         48       0.00      0.00      0.00       508\n",
      "         49       0.00      0.00      0.00       680\n",
      "         50       0.00      0.00      0.00       623\n",
      "         51       0.00      0.00      0.00       937\n",
      "         52       0.00      0.00      0.00       650\n",
      "         53       0.00      0.00      0.00       335\n",
      "         54       0.00      0.00      0.00      1021\n",
      "         55       0.00      0.00      0.00       332\n",
      "         56       0.00      0.00      0.00       323\n",
      "         57       0.00      0.00      0.00       317\n",
      "         58       0.00      0.00      0.00       336\n",
      "         59       0.00      0.00      0.00       646\n",
      "         60       0.00      0.00      0.00       660\n",
      "         61       0.07      0.00      0.00       962\n",
      "\n",
      "avg / total       0.12      0.22      0.14     45015\n",
      "\n",
      "0.21988226146839943\n"
     ]
    },
    {
     "name": "stderr",
     "output_type": "stream",
     "text": [
      "/Users/pmckenz1/miniconda2/lib/python2.7/site-packages/sklearn/metrics/classification.py:1135: UndefinedMetricWarning: Precision and F-score are ill-defined and being set to 0.0 in labels with no predicted samples.\n",
      "  'precision', 'predicted', average, warn_for)\n"
     ]
    }
   ],
   "source": [
    "from sklearn.metrics import classification_report, confusion_matrix, accuracy_score\n",
    "\n",
    "print(confusion_matrix(y_test,y_pred))  \n",
    "print(classification_report(y_test,y_pred))  \n",
    "print(accuracy_score(y_test, y_pred))  "
   ]
  },
  {
   "cell_type": "code",
   "execution_count": null,
   "metadata": {},
   "outputs": [],
   "source": []
  }
 ],
 "metadata": {
  "kernelspec": {
   "display_name": "Python 2",
   "language": "python",
   "name": "python2"
  },
  "language_info": {
   "codemirror_mode": {
    "name": "ipython",
    "version": 2
   },
   "file_extension": ".py",
   "mimetype": "text/x-python",
   "name": "python",
   "nbconvert_exporter": "python",
   "pygments_lexer": "ipython2",
   "version": "2.7.11"
  }
 },
 "nbformat": 4,
 "nbformat_minor": 2
}
